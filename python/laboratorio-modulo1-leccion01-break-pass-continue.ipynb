{
 "cells": [
  {
   "cell_type": "markdown",
   "metadata": {},
   "source": [
    "\n",
    "<div style=\"text-align: center;\">\n",
    "  <img src=\"https://github.com/Hack-io-Data/Imagenes/blob/main/01-LogosHackio/logo_celeste@4x.png?raw=true\" alt=\"esquema\" />\n",
    "</div>\n"
   ]
  },
  {
   "cell_type": "markdown",
   "metadata": {},
   "source": [
    "# Laboratorio de Python: break(), pass(), continue()"
   ]
  },
  {
   "cell_type": "markdown",
   "metadata": {},
   "source": [
    "## Ejercicio 1: Validación de datos numéricos. \n",
    "\n",
    "Escribe un bucle que lea una lista de números y detenga la ejecución si encuentra un valor negativo. Muestra un mensaje indicando el número negativo encontrado.\n"
   ]
  },
  {
   "cell_type": "code",
   "execution_count": 4,
   "metadata": {},
   "outputs": [],
   "source": [
    "def validar_numero(lista_numeros):\n",
    "    resultados = []\n",
    "    for numero in lista_numeros:\n",
    "        if numero < 0:\n",
    "            resultados.append(f\"Detenido: Número negativo encontrado ({numero})\")\n",
    "            break #detengo el bucle\n",
    "    return resultados"
   ]
  },
  {
   "cell_type": "code",
   "execution_count": 5,
   "metadata": {},
   "outputs": [
    {
     "data": {
      "text/plain": [
       "['Detenido: Número negativo encontrado (-5)']"
      ]
     },
     "execution_count": 5,
     "metadata": {},
     "output_type": "execute_result"
    }
   ],
   "source": [
    "lista_validar_numero = [2, -5, 6, -1, 3]\n",
    "\n",
    "validar_numero(lista_validar_numero)\n",
    "\n"
   ]
  },
  {
   "cell_type": "markdown",
   "metadata": {},
   "source": [
    "\n",
    "## Ejercicio 2: Filtrado de datos\n",
    "\n",
    "Escribe un bucle que imprima los números de una lista, pero que omita los números pares.\n"
   ]
  },
  {
   "cell_type": "code",
   "execution_count": 6,
   "metadata": {},
   "outputs": [],
   "source": [
    "def filtrar_datos(lista2):\n",
    "    resultados = []\n",
    "    for numero in lista2:\n",
    "        if numero % 2 != 0:\n",
    "            print(numero)"
   ]
  },
  {
   "cell_type": "code",
   "execution_count": 7,
   "metadata": {},
   "outputs": [
    {
     "name": "stdout",
     "output_type": "stream",
     "text": [
      "1\n",
      "3\n",
      "5\n",
      "7\n"
     ]
    }
   ],
   "source": [
    "numeros = [1, 2, 3, 4, 5, 6, 7, 8]\n",
    "filtrar_datos(numeros)"
   ]
  },
  {
   "cell_type": "markdown",
   "metadata": {},
   "source": [
    "## Ejercicio 3: Búsqueda de un valor\n",
    "\n",
    "Escribe un programa que busque un valor específico en una lista y detenga la búsqueda cuando lo encuentre. Si se encuentra, muestra un mensaje.\n"
   ]
  },
  {
   "cell_type": "code",
   "execution_count": null,
   "metadata": {},
   "outputs": [],
   "source": [
    "def buscar_un_valor(lista_numero, valor_buscado):\n",
    "    for numero in lista_numero:\n",
    "        if numero == valor_buscado:\n",
    "            print(f\"He encontado el valor: {valor_buscado}\")\n",
    "            break ## ¿por qué sin pongo break bajo el if no funciona?\n",
    "    else:\n",
    "        print(f\"el valor {valor_buscado} no está en la lista\")"
   ]
  },
  {
   "cell_type": "code",
   "execution_count": 18,
   "metadata": {},
   "outputs": [
    {
     "name": "stdout",
     "output_type": "stream",
     "text": [
      "He encontado el valor: 22\n"
     ]
    }
   ],
   "source": [
    "valor_buscado = 22\n",
    "lista_numero = [12, 31, 22, 430]\n",
    "buscar_un_valor(lista_numero, valor_buscado)"
   ]
  },
  {
   "cell_type": "markdown",
   "metadata": {},
   "source": [
    "## Ejercicio 4: Estructura de código incompleto\n",
    "\n",
    "Define una función que aún no tenga lógica implementada, pero que se pueda ejecutar sin errores utilizando `pass`."
   ]
  },
  {
   "cell_type": "code",
   "execution_count": 29,
   "metadata": {},
   "outputs": [],
   "source": [
    "def funcion_incompleta():\n",
    "    # esta función todavia no hace nada (no tiene una logica implementada y se utiliza pass para que se pueda ejecutar sin errores)  \n",
    "    pass"
   ]
  },
  {
   "cell_type": "markdown",
   "metadata": {},
   "source": [
    "#duda. no puedo comentar usando comillas \"\"\""
   ]
  },
  {
   "cell_type": "markdown",
   "metadata": {},
   "source": [
    "## Ejercicio 5: Validación condicional\n",
    "\n",
    "Escribe un bucle que verifique una lista de nombres. Si encuentra un nombre vacío (cadena vacía), salta esa iteración y continúa con los demás nombres.\n"
   ]
  },
  {
   "cell_type": "code",
   "execution_count": 45,
   "metadata": {},
   "outputs": [],
   "source": [
    "def validacion_condicional (lista_nombres):\n",
    "    for nombres in lista_nombres:\n",
    "        if nombres == \"\":\n",
    "            continue\n",
    "        print(f\"Nombre válido: {nombres}\")"
   ]
  },
  {
   "cell_type": "markdown",
   "metadata": {},
   "source": [
    "# duda. ¿por que si pongo continue debajod el for no funciona?"
   ]
  },
  {
   "cell_type": "code",
   "execution_count": 49,
   "metadata": {},
   "outputs": [
    {
     "name": "stdout",
     "output_type": "stream",
     "text": [
      "Nombre válido: Ana\n",
      "Nombre válido: Pepa\n",
      "Nombre válido: Alejandra\n",
      "Nombre válido: Julieta\n"
     ]
    }
   ],
   "source": [
    "lista_nombres = [\"Ana\", \"Pepa\", \"\", \"Alejandra\", \"\", \"Julieta\"]\n",
    "validacion_condicional(lista_nombres)"
   ]
  },
  {
   "cell_type": "markdown",
   "metadata": {},
   "source": [
    "## Ejercicio 6: Búsqueda de claves en un diccionario\n",
    "\n",
    "Escribe un programa que recorra un diccionario y detenga la búsqueda si encuentra una clave específica pasada por el usuario.\n"
   ]
  },
  {
   "cell_type": "code",
   "execution_count": 51,
   "metadata": {},
   "outputs": [],
   "source": [
    "def busqueda_clave(diccionario, clave_esperada):\n",
    "    for clave in diccionario:\n",
    "        if clave == clave_esperada:\n",
    "            print(f\"He encontrado la clave esperada '{clave} con valor '{diccionario[clave]}'\")\n",
    "            break\n",
    "    else:\n",
    "        print(f\"La clave '{clave_esperada}' no está en el diccionario.\")\n"
   ]
  },
  {
   "cell_type": "code",
   "execution_count": 52,
   "metadata": {},
   "outputs": [
    {
     "name": "stdout",
     "output_type": "stream",
     "text": [
      "He encontrado la clave esperada 'edad con valor '25'\n"
     ]
    }
   ],
   "source": [
    "abc = {\"nombre\": \"Juan\", \"edad\": 25, \"ciudad\": \"Madrid\"}\n",
    "clave_a_buscar = \"edad\"\n",
    "\n",
    "busqueda_clave(abc, clave_a_buscar)"
   ]
  },
  {
   "cell_type": "markdown",
   "metadata": {},
   "source": [
    "## Ejercicio 7: Bucle con múltiples excepciones\n",
    "\n",
    "Escribe un bucle que procese una lista de operaciones matemáticas, omitiendo las operaciones que intenten dividir por cero.\n"
   ]
  },
  {
   "cell_type": "code",
   "execution_count": 53,
   "metadata": {},
   "outputs": [],
   "source": [
    "def evadir_division_cero(operaciones):\n",
    "    for dividendo, divisor in operaciones:\n",
    "        try:\n",
    "            dividendo / divisor\n",
    "            print(f\"Resultado de {dividendo} / {divisor}\")\n",
    "        except:\n",
    "            divisor == 0\n",
    "            pass"
   ]
  },
  {
   "cell_type": "code",
   "execution_count": 54,
   "metadata": {},
   "outputs": [
    {
     "ename": "ZeroDivisionError",
     "evalue": "division by zero",
     "output_type": "error",
     "traceback": [
      "\u001b[1;31m---------------------------------------------------------------------------\u001b[0m",
      "\u001b[1;31mZeroDivisionError\u001b[0m                         Traceback (most recent call last)",
      "Cell \u001b[1;32mIn[54], line 1\u001b[0m\n\u001b[1;32m----> 1\u001b[0m operaciones \u001b[38;5;241m=\u001b[39m [(\u001b[38;5;241m10\u001b[39m\u001b[38;5;241m/\u001b[39m\u001b[38;5;241m2\u001b[39m), (\u001b[38;5;241m2\u001b[39m\u001b[38;5;241m/\u001b[39m\u001b[38;5;241m3\u001b[39m), (\u001b[38;5;241;43m10\u001b[39;49m\u001b[38;5;241;43m/\u001b[39;49m\u001b[38;5;241;43m0\u001b[39;49m), (\u001b[38;5;241m1\u001b[39m\u001b[38;5;241m/\u001b[39m\u001b[38;5;241m1\u001b[39m), (\u001b[38;5;241m8\u001b[39m\u001b[38;5;241m/\u001b[39m\u001b[38;5;241m0\u001b[39m)]\n\u001b[0;32m      2\u001b[0m evadir_division_cero(operaciones)\n",
      "\u001b[1;31mZeroDivisionError\u001b[0m: division by zero"
     ]
    }
   ],
   "source": [
    "operaciones = [(10/2), (2/3), (10/0), (1/1), (8/0)]\n",
    "evadir_division_cero(operaciones)"
   ]
  },
  {
   "cell_type": "markdown",
   "metadata": {},
   "source": [
    "## Ejercicio 8: Búsqueda en una lista anidada\n",
    "\n",
    "Escribe un programa que recorra una lista de listas y detenga la búsqueda cuando encuentre un valor mayor a 50.\n"
   ]
  },
  {
   "cell_type": "code",
   "execution_count": 2,
   "metadata": {},
   "outputs": [],
   "source": [
    "def busqueda_anidada(lista, valor_def):\n",
    "    for i in list:\n",
    "        for j in sub_list:\n",
    "            if j > valor_def:\n",
    "                print(f\"valor mayor  que 50 encontrado\")\n",
    "                break"
   ]
  },
  {
   "cell_type": "code",
   "execution_count": 6,
   "metadata": {},
   "outputs": [],
   "source": [
    "valor_def = 50\n",
    "lista_anidada_ej = [[23, 2], [4, 52], [23, 14]]"
   ]
  },
  {
   "cell_type": "code",
   "execution_count": 7,
   "metadata": {},
   "outputs": [
    {
     "ename": "TypeError",
     "evalue": "'type' object is not iterable",
     "output_type": "error",
     "traceback": [
      "\u001b[1;31m---------------------------------------------------------------------------\u001b[0m",
      "\u001b[1;31mTypeError\u001b[0m                                 Traceback (most recent call last)",
      "Cell \u001b[1;32mIn[7], line 1\u001b[0m\n\u001b[1;32m----> 1\u001b[0m \u001b[43mbusqueda_anidada\u001b[49m\u001b[43m(\u001b[49m\u001b[43mlista_anidada_ej\u001b[49m\u001b[43m,\u001b[49m\u001b[43m \u001b[49m\u001b[43mvalor_def\u001b[49m\u001b[43m)\u001b[49m\n",
      "Cell \u001b[1;32mIn[2], line 2\u001b[0m, in \u001b[0;36mbusqueda_anidada\u001b[1;34m(lista, valor_def)\u001b[0m\n\u001b[0;32m      1\u001b[0m \u001b[38;5;28;01mdef\u001b[39;00m \u001b[38;5;21mbusqueda_anidada\u001b[39m(lista, valor_def):\n\u001b[1;32m----> 2\u001b[0m \u001b[43m    \u001b[49m\u001b[38;5;28;43;01mfor\u001b[39;49;00m\u001b[43m \u001b[49m\u001b[43mi\u001b[49m\u001b[43m \u001b[49m\u001b[38;5;129;43;01min\u001b[39;49;00m\u001b[43m \u001b[49m\u001b[38;5;28;43mlist\u001b[39;49m\u001b[43m:\u001b[49m\n\u001b[0;32m      3\u001b[0m \u001b[43m        \u001b[49m\u001b[38;5;28;43;01mfor\u001b[39;49;00m\u001b[43m \u001b[49m\u001b[43mj\u001b[49m\u001b[43m \u001b[49m\u001b[38;5;129;43;01min\u001b[39;49;00m\u001b[43m \u001b[49m\u001b[43msub_list\u001b[49m\u001b[43m:\u001b[49m\n\u001b[0;32m      4\u001b[0m \u001b[43m            \u001b[49m\u001b[38;5;28;43;01mif\u001b[39;49;00m\u001b[43m \u001b[49m\u001b[43mj\u001b[49m\u001b[43m \u001b[49m\u001b[38;5;241;43m>\u001b[39;49m\u001b[43m \u001b[49m\u001b[43mvalor_def\u001b[49m\u001b[43m:\u001b[49m\n",
      "\u001b[1;31mTypeError\u001b[0m: 'type' object is not iterable"
     ]
    }
   ],
   "source": [
    "busqueda_anidada(lista_anidada_ej, valor_def)"
   ]
  },
  {
   "cell_type": "code",
   "execution_count": 5,
   "metadata": {},
   "outputs": [
    {
     "name": "stdout",
     "output_type": "stream",
     "text": [
      "Busqueda completa.\n"
     ]
    }
   ],
   "source": [
    "## prueba 2\n",
    "def buscar_mayor_50(lista_anidada):\n",
    "    for sublista in lista_anidada:\n",
    "        for valor in sublista:\n",
    "            if valor > 50:\n",
    "                print(f\"Valor mayor que 50 encontrado: {valor}\")\n",
    "                break\n",
    "        else:\n",
    "            continue\n",
    "print(\"Busqueda completa.\")"
   ]
  },
  {
   "cell_type": "code",
   "execution_count": 8,
   "metadata": {},
   "outputs": [
    {
     "name": "stdout",
     "output_type": "stream",
     "text": [
      "Valor mayor que 50 encontrado: 52\n"
     ]
    }
   ],
   "source": [
    "buscar_mayor_50(lista_anidada_ej)"
   ]
  },
  {
   "cell_type": "markdown",
   "metadata": {},
   "source": [
    "## Ejercicio 9: Evaluación de series temporales\n",
    "\n",
    "Escribe un programa que recorra una lista de datos de series temporales y se detenga si encuentra un valor atípico (mayor a 100).\n"
   ]
  },
  {
   "cell_type": "code",
   "execution_count": 10,
   "metadata": {},
   "outputs": [],
   "source": [
    "def evaluacion_seriestemp(datos):\n",
    "    for valor in datos:\n",
    "        if valor > 100:\n",
    "            print(f\"Valor atípico encontrado: {valor}\")\n",
    "            break"
   ]
  },
  {
   "cell_type": "code",
   "execution_count": 11,
   "metadata": {},
   "outputs": [
    {
     "name": "stdout",
     "output_type": "stream",
     "text": [
      "Valor atípico encontrado: 122\n"
     ]
    }
   ],
   "source": [
    "mi_lista_temp = [55, 67, 89, 122, 1122]\n",
    "evaluacion_seriestemp(mi_lista_temp)"
   ]
  },
  {
   "cell_type": "markdown",
   "metadata": {},
   "source": [
    "## Ejercicio 10: Iteración con valores faltantes\n",
    "\n",
    "Crea un bucle que recorra una lista de datos de ventas y salte los valores faltantes representados por `None`."
   ]
  },
  {
   "cell_type": "code",
   "execution_count": 16,
   "metadata": {},
   "outputs": [],
   "source": [
    "def saltar_valores_faltantes(lista_datos):\n",
    "    for valor in lista_datos:\n",
    "        if valor == None:\n",
    "            continue\n",
    "        print(f\"Lista procesada: {valor}\")"
   ]
  },
  {
   "cell_type": "code",
   "execution_count": 17,
   "metadata": {},
   "outputs": [
    {
     "name": "stdout",
     "output_type": "stream",
     "text": [
      "Lista procesada: 150\n",
      "Lista procesada: 200\n",
      "Lista procesada: 300\n",
      "Lista procesada: 450\n",
      "Lista procesada: 500\n"
     ]
    }
   ],
   "source": [
    "datos_ventas = [150, 200, None, 300, None, 450, 500]\n",
    "saltar_valores_faltantes(datos_ventas)"
   ]
  },
  {
   "cell_type": "markdown",
   "metadata": {},
   "source": [
    "### me debería salir así o tener una lista solo con los datos no faltantes?"
   ]
  },
  {
   "cell_type": "code",
   "execution_count": null,
   "metadata": {},
   "outputs": [],
   "source": [
    "def filtrar_ventas(ventas):\n",
    "    ventas_filtradas = []\n",
    "    for venta in ventas:\n",
    "        if venta is None:\n",
    "            continue  # Salta los valores None\n",
    "        ventas_filtradas.append(venta)  # Agrega las ventas válidas a la lista\n",
    "    return ventas_filtradas\n"
   ]
  },
  {
   "cell_type": "code",
   "execution_count": null,
   "metadata": {},
   "outputs": [
    {
     "name": "stdout",
     "output_type": "stream",
     "text": [
      "Ventas válidas: [150, 200, 300, 450, 500]\n"
     ]
    }
   ],
   "source": [
    "\n",
    "datos_ventas = [150, 200, None, 300, None, 450, 500]\n",
    "\n",
    "# Llamada a la función\n",
    "ventas_validas = filtrar_ventas(datos_ventas)\n",
    "\n",
    "print(f\"Ventas válidas: {ventas_validas}\")\n"
   ]
  },
  {
   "cell_type": "markdown",
   "metadata": {},
   "source": [
    "## Ejercicio 11: Control de flujo en bucles anidados\n",
    "\n",
    "Escribe un bucle que recorra la matriz dada y se detenga si se encuentra un número negativo, mostrando su posición.\n",
    "\n"
   ]
  },
  {
   "cell_type": "markdown",
   "metadata": {},
   "source": [
    "#### \"len\": devuelve la cantidad de elementos (la longitud)\n",
    "#### \"range\": genera una secuencia de numeros (se usa para recorrer indices o crear una lista de numeros)\n",
    "    # range(5) genera los números 0, 1, 2, 3, 4\n",
    "for numero in range(5):\n",
    "    print(numero)"
   ]
  },
  {
   "cell_type": "code",
   "execution_count": null,
   "metadata": {},
   "outputs": [],
   "source": [
    "## ejemplo que no imrpime el numero negativo dado\n",
    "def control_flujo(matriz):\n",
    "    for i in range(len(matriz)): # recorrermos las filas de la matriz\n",
    "        for j in range(len(matriz[i])): # recorremos las columnas de la matriz\n",
    "            if matriz [i][j] < 0:\n",
    "                print(f\"numero negativo encontrado: {matriz[i][j]} en posicion ({i}, {j})\")\n",
    "            return ## detiene toda la funcion ,no ejecuta ninguna linea q este debajo de el si la condicion if se cumple\n",
    "    print(\"No se encontraron numeros negativos\")\n",
    "\n",
    "    ##el return está fuera del if (aunq aparezca debajo) y retorna inmediatamente sin importar si se cumplio el if\n",
    "    ##al retornar, el programa termina sin evaluar solo el resto de la matriz, se queda solo en la primera posicion"
   ]
  },
  {
   "cell_type": "markdown",
   "metadata": {},
   "source": [
    "### explicación: no imprime porque aunque a primera vista el print deberia ejecutarse porque esta antes del retun, si return no está dentro del if python lo ejecuta antes que procese la matriz sin verificar la condición del if "
   ]
  },
  {
   "cell_type": "code",
   "execution_count": null,
   "metadata": {},
   "outputs": [],
   "source": [
    "## ejemplo que si funciona (indentación correcta)\n",
    "def control_flujo(matriz):\n",
    "    for i in range(len(matriz)): # recorrermos las filas de la matriz\n",
    "        for j in range(len(matriz[i])): # recorremos las columnas de la matriz\n",
    "            if matriz [i][j] < 0:\n",
    "                print(f\"numero negativo encontrado: {matriz[i][j]} en posicion ({i}, {j})\")\n",
    "                return ## indentacion correcta\n",
    "    print(\"No se encontraron numeros negativos\")"
   ]
  },
  {
   "cell_type": "code",
   "execution_count": null,
   "metadata": {},
   "outputs": [],
   "source": [
    "def control_flujo(matriz):\n",
    "    for i in range(len(matriz)): # recorrermos las filas de la matriz\n",
    "        for j in range(len(matriz[i])): # recorremos las columnas de la matriz\n",
    "            if matriz [i][j] < 0:\n",
    "                print(f\"numero negativo encontrado: {matriz[i][j]} en posicion ({i}, {j})\")\n",
    "                break ## ej. con break para ver si imprime\n",
    "    print(\"No se encontraron numeros negativos\")\n",
    "\n",
    "    ## con break imprime el numero negativo encontrado pero tambien imprime el print \"no se encontraron numeros negativos\""
   ]
  },
  {
   "cell_type": "code",
   "execution_count": 42,
   "metadata": {},
   "outputs": [],
   "source": [
    "matriz = [[10, 20, 30], [40, 50, -5], [70, 80, 90]]\n",
    "control_flujo(matriz)"
   ]
  },
  {
   "cell_type": "code",
   "execution_count": 24,
   "metadata": {},
   "outputs": [
    {
     "name": "stdout",
     "output_type": "stream",
     "text": [
      "No se encontraron numeros negativos\n"
     ]
    }
   ],
   "source": [
    "matriz = [[10, 20, 30], [40, 50, 5], [70, 80, 90]]\n",
    "control_flujo(matriz)"
   ]
  },
  {
   "cell_type": "markdown",
   "metadata": {},
   "source": [
    "## Ejercicio 12: Placeholder para funciones incompletas\n",
    "\n",
    "Escribe una función que tenga un bloque de control(if, for, while) que aún no esté implementado, utilizando `pass` (No hace nada, marcador de posición) para que no genere errores."
   ]
  },
  {
   "cell_type": "code",
   "execution_count": 43,
   "metadata": {},
   "outputs": [],
   "source": [
    "def validar_datos(datos):\n",
    "    for dato in datos:\n",
    "        if dato > 0:\n",
    "            pass"
   ]
  },
  {
   "cell_type": "code",
   "execution_count": 44,
   "metadata": {},
   "outputs": [],
   "source": [
    "validar_datos([1, -1, 0])\n"
   ]
  },
  {
   "cell_type": "code",
   "execution_count": null,
   "metadata": {},
   "outputs": [],
   "source": [
    "def procesar_matriz(matriz):\n",
    "    for fila in matriz:  # Recorremos las filas de la matriz\n",
    "        for elemento in fila:  # Recorremos los elementos de cada fila\n",
    "            if elemento < 0:  # Condición para números negativos\n",
    "                pass  # Placeholder para lógica futura\n"
   ]
  }
 ],
 "metadata": {
  "kernelspec": {
   "display_name": "Python 3",
   "language": "python",
   "name": "python3"
  },
  "language_info": {
   "codemirror_mode": {
    "name": "ipython",
    "version": 3
   },
   "file_extension": ".py",
   "mimetype": "text/x-python",
   "name": "python",
   "nbconvert_exporter": "python",
   "pygments_lexer": "ipython3",
   "version": "3.12.4"
  }
 },
 "nbformat": 4,
 "nbformat_minor": 2
}
