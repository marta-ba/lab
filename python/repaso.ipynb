{
 "cells": [
  {
   "cell_type": "markdown",
   "metadata": {},
   "source": [
    "# Ejercicios Repaso de Python\n",
    "\n",
    "## 1. 'lista_digitos()'\n",
    "Dado un número entero positivo, convierte el número en una lista donde cada elemento es un dígito del número original, pero en orden inverso. \n",
    "\n",
    "**Input:**\n",
    "- Un número entero, por ejemplo: 348597\n",
    "\n",
    "**Output esperado:**\n",
    "- Una lista de enteros con los dígitos en orden inverso, por ejemplo: [7, 9, 5, 8, 4, 3]\n"
   ]
  },
  {
   "cell_type": "code",
   "execution_count": 4,
   "metadata": {},
   "outputs": [],
   "source": [
    "numero = 348597"
   ]
  },
  {
   "cell_type": "code",
   "execution_count": 5,
   "metadata": {},
   "outputs": [],
   "source": [
    "def lista_digitos(numero):\n",
    "    lista = list(str(numero))\n",
    "    lista.reverse()\n",
    "    return lista"
   ]
  },
  {
   "cell_type": "code",
   "execution_count": 6,
   "metadata": {},
   "outputs": [
    {
     "data": {
      "text/plain": [
       "['7', '9', '5', '8', '4', '3']"
      ]
     },
     "execution_count": 6,
     "metadata": {},
     "output_type": "execute_result"
    }
   ],
   "source": [
    "lista_digitos(numero)"
   ]
  },
  {
   "cell_type": "markdown",
   "metadata": {},
   "source": [
    "## Tipos de datos"
   ]
  },
  {
   "cell_type": "markdown",
   "metadata": {},
   "source": [
    "- numericos:\n",
    "     int: 1,2, 4\n",
    "     \n",
    "str: \"hola\", \"pablo\"\n",
    "                -- funciones mas comunes len(), split() para dividir una cadena en una lista de subcadenas separadas por un caracter especifico\n",
    "    \n",
    "     complex: parte real + parte imaginaria 3+2j\n",
    "- bool: true, False\n",
    "    if, while\n",
    "- none\n",
    "        float (1.21)\n",
    "\n",
    "- secuencias\n",
    "    list[] --------> len(), append() agrega elementos a una lsita y extend()) \n",
    "\n",
    "    tuplas:almacena multiples valores en un solo objeto y podemos acceder a sus elementos pero una vez creada, no puede modificarse. --------- > (1, 2, 3, 4, 5), ('a', 'b', 'c'), (1, 'a', True, (2, 3, 4))\n",
    "\n",
    "    range(): representan una secuencia inmutable de numeros enteros. se usa para generar una secuencia de numeros enteros para su uso en un bucle for.\n",
    "\n",
    "- tipos de mapeo\n",
    "    dict{clave:valor} ----------> {'nombre': 'Juan', 'edad': 25, 'ciudad': 'Madrid'}, {1: 'uno', 2: 'dos', 3: 'tres'}, {(1, 2): 'valor de la tupla', 'clave': [1, 2, 3]}\n",
    "\n",
    "- tipos de conjuntos\n",
    "    set: son una colección de elementos únicos e inmutables; es decir, no debe haber duplicados en un conjunto y no se pueden cambiar después de ser creados. Un conjunto se crea utilizando llaves «{ }» o la función set() y los elementos se separan por comas. \n",
    "\n",
    "    ex: {1, 2, 3, 4, 5}{\n",
    "\n",
    "'hola', 'mundo', 'python'}\n",
    "\n",
    "    set([1, 2, 3, 4])"
   ]
  },
  {
   "cell_type": "markdown",
   "metadata": {},
   "source": [
    "## 2. ¿Cuánta cómida tengo en la mochila?\n",
    "mochila = [\"manzana\", \"movil\", \"reloj\", \"linterna\", \"bocadillo\", \"tortilla\", \"mechero\", \"agua\", \"tienda_campaña\"]\n",
    "\n",
    "lista_comida = [\"manzana\", \"agua\", \"zumo\", \"arroz\", \"tortilla\"]\n",
    "\n",
    "- mochila: Es una lista que contiene los elementos que llevas en tu mochila.\n",
    "\n",
    "- lista_comida: Es una lista que contiene posibles alimentos. \n",
    "Queremos verificar cuántos de estos están realmente dentro de la mochila."
   ]
  },
  {
   "cell_type": "code",
   "execution_count": 7,
   "metadata": {},
   "outputs": [],
   "source": [
    "mochila = [\"manzana\", \"movil\", \"reloj\", \"linterna\", \"bocadillo\", \"tortilla\", \"mechero\", \"agua\", \"tienda_campaña\"]\n",
    "\n",
    "lista_comida = [\"manzana\", \"agua\", \"zumo\", \"arroz\", \"tortilla\"]"
   ]
  },
  {
   "cell_type": "code",
   "execution_count": 10,
   "metadata": {},
   "outputs": [
    {
     "data": {
      "text/plain": [
       "3"
      ]
     },
     "execution_count": 10,
     "metadata": {},
     "output_type": "execute_result"
    }
   ],
   "source": [
    "def cuanta_comida(mochila, lista_comida):\n",
    "    contador = 0\n",
    "    for i in lista_comida:\n",
    "        if i in mochila:\n",
    "            contador += 1\n",
    "    return contador\n",
    "\n",
    "cuanta_comida(mochila, lista_comida)"
   ]
  },
  {
   "cell_type": "code",
   "execution_count": 11,
   "metadata": {},
   "outputs": [],
   "source": [
    "def que_comida(mochila, lista_comida):\n",
    "    lista_comida_mochila = []\n",
    "    for ñamñam in lista_comida:\n",
    "        if ñamñam in mochila:\n",
    "            lista_comida_mochila.append(ñamñam)\n",
    "    return(lista_comida_mochila)"
   ]
  },
  {
   "cell_type": "code",
   "execution_count": 12,
   "metadata": {},
   "outputs": [
    {
     "data": {
      "text/plain": [
       "['manzana', 'agua', 'tortilla']"
      ]
     },
     "execution_count": 12,
     "metadata": {},
     "output_type": "execute_result"
    }
   ],
   "source": [
    "que_comida(mochila, lista_comida)"
   ]
  },
  {
   "cell_type": "markdown",
   "metadata": {},
   "source": [
    "### 3. match_result()\n",
    "\n",
    "Dada una lista de tuplas con dos números cada una, donde cada número representa el puntaje de dos equipos en un partido, determina el resultado del partido, si el equipo es el que juega en casa (el primero de la tupla).\n",
    "\n",
    "Input:\n",
    "Una lista de tuplas de enteros, por ejemplo: [(3, 1), (2, 2), (1, 4)]\n",
    "\n",
    "Output esperado:\n",
    "Una lista de strings con el resultado para cada partida, por ejemplo: [\"ganador\", \"empate\", \"perdedor\"]\n"
   ]
  },
  {
   "cell_type": "code",
   "execution_count": null,
   "metadata": {},
   "outputs": [],
   "source": [
    "imput_funcion = [(3,1), (2,2), (1,4),(5,5)]"
   ]
  },
  {
   "cell_type": "code",
   "execution_count": 13,
   "metadata": {},
   "outputs": [],
   "source": [
    "def resultados_con_nombres(imput_resultados):\n",
    "    resultado_partida=[]\n",
    "    for resultado in imput_resultados:\n",
    "        if resultado[0]>resultado[1]:\n",
    "            resultado_partida.append(\"ganador\")\n",
    "        elif resultado[0]==resultado[1]:\n",
    "            resultado_partida.append(\"empate\")\n",
    "        else:\n",
    "            resultado_partida.append(\"perdedor\")\n",
    "    return  resultado_partida"
   ]
  },
  {
   "cell_type": "code",
   "execution_count": 14,
   "metadata": {},
   "outputs": [
    {
     "data": {
      "text/plain": [
       "['ganador', 'empate', 'perdedor']"
      ]
     },
     "execution_count": 14,
     "metadata": {},
     "output_type": "execute_result"
    }
   ],
   "source": [
    "resultados_con_nombres(imput_funcion)"
   ]
  },
  {
   "cell_type": "code",
   "execution_count": 12,
   "metadata": {},
   "outputs": [
    {
     "data": {
      "text/plain": [
       "['perdedor']"
      ]
     },
     "execution_count": 12,
     "metadata": {},
     "output_type": "execute_result"
    }
   ],
   "source": [
    "x_y = [(3,4),(5,9),(9,7)]\n",
    "\n",
    "resultados_con_nombres(x_y)"
   ]
  },
  {
   "cell_type": "code",
   "execution_count": 9,
   "metadata": {},
   "outputs": [
    {
     "name": "stdout",
     "output_type": "stream",
     "text": [
      "Yo no recibo input. Así que te devuelvo un hola\n",
      "Este mensaje lo escribo muchas veces, así que lo meto en una funcion y lo reutilizo\n"
     ]
    }
   ],
   "source": [
    "def funcion_no_input():\n",
    "    print(\"Yo no recibo input. Así que te devuelvo un hola\")\n",
    "    print(\"Este mensaje lo escribo muchas veces, así que lo meto en una funcion y lo reutilizo\")\n",
    "    \n",
    "\n",
    "mi_variable = funcion_no_input()"
   ]
  },
  {
   "cell_type": "code",
   "execution_count": 8,
   "metadata": {},
   "outputs": [
    {
     "data": {
      "text/plain": [
       "'hola'"
      ]
     },
     "execution_count": 8,
     "metadata": {},
     "output_type": "execute_result"
    }
   ],
   "source": [
    "mi_variable"
   ]
  },
  {
   "cell_type": "code",
   "execution_count": 10,
   "metadata": {},
   "outputs": [
    {
     "name": "stdout",
     "output_type": "stream",
     "text": [
      "Yo no recibo input. Así que te devuelvo un hola\n",
      "Este mensaje lo escribo muchas veces, así que lo meto en una funcion y lo reutilizo\n"
     ]
    }
   ],
   "source": [
    "funcion_no_input()"
   ]
  },
  {
   "cell_type": "markdown",
   "metadata": {},
   "source": [
    "## 2. `formatear_nombre()`\n",
    "Dada una lista de nombres escritos en minúsculas o con letras mayúsculas y minúsculas mezcladas, devuelve una nueva lista donde cada nombre está capitalizado correctamente (solo la primera letra en mayúscula).\n",
    "\n",
    "**Input:**\n",
    "- Una lista de strings, por ejemplo: `[\"ana\", \"jUAn\", \"LuIs\"]`\n",
    "\n",
    "**Output esperado:**\n",
    "- Una lista de strings capitalizados, por ejemplo: `[\"Ana\", \"Juan\", \"Luis\"]`"
   ]
  },
  {
   "cell_type": "code",
   "execution_count": 17,
   "metadata": {},
   "outputs": [],
   "source": [
    "lista_nombres = [\"ana\", \"jUaN\", \"lUiS\"]\n",
    "\n",
    "def formatear_nombre(lista_nombres):\n",
    "    nombre_capit = []\n",
    "    for nombre in lista_nombres:\n",
    "        nombre_capit.append(nombre.capitalize())\n",
    "    return nombre_capit\n",
    "    "
   ]
  },
  {
   "cell_type": "code",
   "execution_count": 18,
   "metadata": {},
   "outputs": [
    {
     "data": {
      "text/plain": [
       "['Ana', 'Juan', 'Luis']"
      ]
     },
     "execution_count": 18,
     "metadata": {},
     "output_type": "execute_result"
    }
   ],
   "source": [
    "formatear_nombre(lista_nombres)"
   ]
  },
  {
   "cell_type": "markdown",
   "metadata": {},
   "source": [
    "## 4. `what_is_between()`\n",
    "Crea una lista con todos los números enteros entre dos valores dados, incluyendo ambos extremos.\n",
    "\n",
    "**Input:**\n",
    "- Dos números enteros, por ejemplo: `3` y `7`\n",
    "\n",
    "**Output esperado:**\n",
    "- Una lista de enteros entre los valores dados, por ejemplo: `[3, 4, 5, 6, 7]`"
   ]
  },
  {
   "cell_type": "code",
   "execution_count": 21,
   "metadata": {},
   "outputs": [],
   "source": [
    "numeroa = 3\n",
    "numerob = 7\n",
    "\n",
    "def dentro(numeroa, numerob):\n",
    "    numerosentre = []\n",
    "    for numero in range(numeroa, numerob + 1):\n",
    "        numerosentre.append(numero)\n",
    "    return numerosentre"
   ]
  },
  {
   "cell_type": "code",
   "execution_count": 22,
   "metadata": {},
   "outputs": [
    {
     "data": {
      "text/plain": [
       "[3, 4, 5, 6, 7]"
      ]
     },
     "execution_count": 22,
     "metadata": {},
     "output_type": "execute_result"
    }
   ],
   "source": [
    "dentro(numeroa, numerob)"
   ]
  },
  {
   "cell_type": "markdown",
   "metadata": {},
   "source": [
    "## 5. `es_mayus()`\n",
    "Dado un string, verifica si todas sus letras están en mayúsculas. Ignora los espacios para que no afecten el resultado.\n",
    "\n",
    "**Input:**\n",
    "- Un string, por ejemplo: `\"HOLA MUNDO\"`\n",
    "\n",
    "**Output esperado:**\n",
    "- `True` si todas las letras están en mayúsculas, `False` en caso contrario."
   ]
  },
  {
   "cell_type": "code",
   "execution_count": 28,
   "metadata": {},
   "outputs": [],
   "source": [
    "ejstring = \"HOLA MUNDO\"\n",
    "\n",
    "def es_mayus(texto):\n",
    "    solo_letras = []\n",
    "    for letra in texto:\n",
    "        if letra.isalpha():\n",
    "            solo_letras.append(letra)\n",
    "    for letra in solo_Letras:\n",
    "        if not letra.isupper():\n",
    "            return False\n",
    "    return True   ### no entiendo esto\n",
    "    "
   ]
  },
  {
   "cell_type": "code",
   "execution_count": 29,
   "metadata": {},
   "outputs": [
    {
     "ename": "NameError",
     "evalue": "name 'solo_Letras' is not defined",
     "output_type": "error",
     "traceback": [
      "\u001b[1;31m---------------------------------------------------------------------------\u001b[0m",
      "\u001b[1;31mNameError\u001b[0m                                 Traceback (most recent call last)",
      "Cell \u001b[1;32mIn[29], line 1\u001b[0m\n\u001b[1;32m----> 1\u001b[0m \u001b[43mes_mayus\u001b[49m\u001b[43m(\u001b[49m\u001b[43mejstring\u001b[49m\u001b[43m)\u001b[49m\n",
      "Cell \u001b[1;32mIn[28], line 8\u001b[0m, in \u001b[0;36mes_mayus\u001b[1;34m(texto)\u001b[0m\n\u001b[0;32m      6\u001b[0m     \u001b[38;5;28;01mif\u001b[39;00m letra\u001b[38;5;241m.\u001b[39misalpha():\n\u001b[0;32m      7\u001b[0m         solo_letras\u001b[38;5;241m.\u001b[39mappend(letra)\n\u001b[1;32m----> 8\u001b[0m \u001b[38;5;28;01mfor\u001b[39;00m letra \u001b[38;5;129;01min\u001b[39;00m \u001b[43msolo_Letras\u001b[49m:\n\u001b[0;32m      9\u001b[0m     \u001b[38;5;28;01mif\u001b[39;00m \u001b[38;5;129;01mnot\u001b[39;00m letra\u001b[38;5;241m.\u001b[39misupper():\n\u001b[0;32m     10\u001b[0m         \u001b[38;5;28;01mreturn\u001b[39;00m \u001b[38;5;28;01mFalse\u001b[39;00m\n",
      "\u001b[1;31mNameError\u001b[0m: name 'solo_Letras' is not defined"
     ]
    }
   ],
   "source": [
    "es_mayus(ejstring)"
   ]
  },
  {
   "cell_type": "markdown",
   "metadata": {},
   "source": [
    "## 7. `añadir_apellido()`\n",
    "Dado un diccionario que representa a una persona con claves como \"nombre\" y \"edad\", añade una nueva clave llamada \"apellido\" con un valor proporcionado.\n",
    "\n",
    "**Input:**\n",
    "- Un diccionario, por ejemplo: `{\"nombre\": \"Juan\", \"edad\": 30}`\n",
    "- Un string con el apellido, por ejemplo: `\"García\"`\n",
    "\n",
    "**Output esperado:**\n",
    "- El diccionario actualizado, por ejemplo: `{\"nombre\": \"Juan\", \"edad\": 30, \"apellido\": \"García\"}`"
   ]
  },
  {
   "cell_type": "code",
   "execution_count": 1,
   "metadata": {},
   "outputs": [],
   "source": [
    "dicc = {\"nombre\": \"Juan\", \"edad\": 30}"
   ]
  },
  {
   "cell_type": "code",
   "execution_count": null,
   "metadata": {},
   "outputs": [],
   "source": [
    "def añadir_apellido (persona, apellido):\n",
    "    persona[\"apellido\"] = apellido  #¿como se hace una funcion estandar donde puedes añadir cualquier tipo de clave-valor a un diccionario?\n",
    "    return persona"
   ]
  },
  {
   "cell_type": "code",
   "execution_count": 4,
   "metadata": {},
   "outputs": [
    {
     "data": {
      "text/plain": [
       "{'nombre': 'Juan', 'edad': 30, 'apellido': 'García'}"
      ]
     },
     "execution_count": 4,
     "metadata": {},
     "output_type": "execute_result"
    }
   ],
   "source": [
    "apellido = \"García\"\n",
    "añadir_apellido(dicc, apellido)"
   ]
  },
  {
   "cell_type": "markdown",
   "metadata": {},
   "source": [
    "## 8. `corregir_nombre_socio()`\n",
    "Dado un diccionario con un nombre incorrecto (por ejemplo, letras mezcladas o en minúsculas), revisa y corrige cada letra del nombre basándote en una versión de referencia correcta. La función debería trabajar para un solo diccionario y luego reutilizarse para corregir una lista de diccionarios de nombres.\n",
    "\n",
    "**Input:**\n",
    "- Un diccionario, por ejemplo: `{\"nombre\": \"jUn\", \"edad\": 40}`\n",
    "- Un string con el nombre correcto, por ejemplo: `\"Juan\"`\n",
    "\n",
    "**Output esperado:**\n",
    "- El diccionario con el nombre corregido, por ejemplo: `{\"nombre\": \"Juan\", \"edad\": 40}`"
   ]
  },
  {
   "cell_type": "code",
   "execution_count": 5,
   "metadata": {},
   "outputs": [],
   "source": [
    "def corregir_nombre(lista_socio, nombre_correcto):\n",
    "    for socio in lista_socio:\n",
    "        socio[\"nombre\"] = nombre_correcto\n",
    "    return lista_socio\n"
   ]
  },
  {
   "cell_type": "code",
   "execution_count": 11,
   "metadata": {},
   "outputs": [
    {
     "ename": "TypeError",
     "evalue": "'function' object is not subscriptable",
     "output_type": "error",
     "traceback": [
      "\u001b[1;31m---------------------------------------------------------------------------\u001b[0m",
      "\u001b[1;31mTypeError\u001b[0m                                 Traceback (most recent call last)",
      "Cell \u001b[1;32mIn[11], line 4\u001b[0m\n\u001b[0;32m      1\u001b[0m socio \u001b[38;5;241m=\u001b[39m {\u001b[38;5;124m\"\u001b[39m\u001b[38;5;124mnombre\u001b[39m\u001b[38;5;124m\"\u001b[39m: \u001b[38;5;124m\"\u001b[39m\u001b[38;5;124mjUn\u001b[39m\u001b[38;5;124m\"\u001b[39m, \u001b[38;5;124m\"\u001b[39m\u001b[38;5;124medad\u001b[39m\u001b[38;5;124m\"\u001b[39m: \u001b[38;5;241m40\u001b[39m}\n\u001b[0;32m      2\u001b[0m correcto \u001b[38;5;241m=\u001b[39m \u001b[38;5;124m\"\u001b[39m\u001b[38;5;124mJuan\u001b[39m\u001b[38;5;124m\"\u001b[39m\n\u001b[1;32m----> 4\u001b[0m \u001b[43mcorregir_nombre\u001b[49m\u001b[43m[\u001b[49m\u001b[43msocio\u001b[49m\u001b[43m,\u001b[49m\u001b[43m \u001b[49m\u001b[43mcorrecto\u001b[49m\u001b[43m]\u001b[49m\n",
      "\u001b[1;31mTypeError\u001b[0m: 'function' object is not subscriptable"
     ]
    }
   ],
   "source": [
    "socio = {\"nombre\": \"jUn\", \"edad\": 40}\n",
    "correcto = \"Juan\"\n",
    "\n",
    "corregir_nombre[socio, correcto]"
   ]
  },
  {
   "cell_type": "markdown",
   "metadata": {},
   "source": [
    "## 9. `crear_diccionario_notas()`\n",
    "Crea un diccionario que almacene nombres de estudiantes como claves y sus notas como valores. Puedes usar `zip()` para combinar dos listas: una de nombres y otra de notas.\n",
    "\n",
    "**Input:**\n",
    "- Dos listas, una con nombres de estudiantes (por ejemplo: `[\"Ana\", \"Luis\", \"Maria\"]`) y otra con sus notas (por ejemplo: `[85, 90, 78]`).\n",
    "\n",
    "**Output esperado:**\n",
    "- Un diccionario donde cada nombre está asociado a su nota, por ejemplo: `{\"Ana\": 85, \"Luis\": 90, \"Maria\": 78}`"
   ]
  },
  {
   "cell_type": "code",
   "execution_count": 14,
   "metadata": {},
   "outputs": [
    {
     "data": {
      "text/plain": [
       "{'Ana': 85, 'Luis': 90, 'Maria': 78}"
      ]
     },
     "execution_count": 14,
     "metadata": {},
     "output_type": "execute_result"
    }
   ],
   "source": [
    "lista_estudiantes = [\"Ana\", \"Luis\", \"Maria\"]\n",
    "lista_notas = [85, 90, 78]\n",
    "\n",
    "def crear_diccionaro_notas(lista_estudiantes, lista_notas):\n",
    "    combinacion = zip(lista_estudiantes, lista_notas)\n",
    "    diccionario = dict(combinacion)\n",
    "    return diccionario\n",
    "\n",
    "crear_diccionaro_notas(lista_estudiantes, lista_notas)\n"
   ]
  },
  {
   "cell_type": "markdown",
   "metadata": {},
   "source": [
    "## 10. `crear_diccionario_notas_tupla()`\n",
    "Similar al ejercicio anterior, pero aquí la información de los estudiantes y sus notas viene en una lista de tuplas. Cada tupla contiene el nombre y la nota de un estudiante.\n",
    "\n",
    "**Input:**\n",
    "- Una lista de tuplas, por ejemplo: `[(\"Ana\", 85), (\"Luis\", 90), (\"Maria\", 78)]`\n",
    "\n",
    "**Output esperado:**\n",
    "- Un diccionario donde cada nombre está asociado a su nota, por ejemplo: `{\"Ana\": 85, \"Luis\": 90, \"Maria\": 78}`"
   ]
  },
  {
   "cell_type": "code",
   "execution_count": 15,
   "metadata": {},
   "outputs": [],
   "source": [
    "alumno_tupla = [(\"Ana\", 85), (\"Luis\", 90), (\"Maria\", 78)]"
   ]
  },
  {
   "cell_type": "code",
   "execution_count": 16,
   "metadata": {},
   "outputs": [],
   "source": [
    "def crear_diccionaro_notas_tupla(lista_tupla):\n",
    "    diccionario = dict(lista_tupla)\n",
    "    return diccionario"
   ]
  },
  {
   "cell_type": "code",
   "execution_count": 17,
   "metadata": {},
   "outputs": [
    {
     "data": {
      "text/plain": [
       "{'Ana': 85, 'Luis': 90, 'Maria': 78}"
      ]
     },
     "execution_count": 17,
     "metadata": {},
     "output_type": "execute_result"
    }
   ],
   "source": [
    "crear_diccionaro_notas_tupla(alumno_tupla)"
   ]
  }
 ],
 "metadata": {
  "kernelspec": {
   "display_name": "Python 3",
   "language": "python",
   "name": "python3"
  },
  "language_info": {
   "codemirror_mode": {
    "name": "ipython",
    "version": 3
   },
   "file_extension": ".py",
   "mimetype": "text/x-python",
   "name": "python",
   "nbconvert_exporter": "python",
   "pygments_lexer": "ipython3",
   "version": "3.12.4"
  }
 },
 "nbformat": 4,
 "nbformat_minor": 2
}
