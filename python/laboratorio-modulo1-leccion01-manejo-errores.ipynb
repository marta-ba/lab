{
 "cells": [
  {
   "cell_type": "markdown",
   "metadata": {},
   "source": [
    "\n",
    "<div style=\"text-align: center;\">\n",
    "  <img src=\"https://github.com/Hack-io-Data/Imagenes/blob/main/01-LogosHackio/logo_celeste@4x.png?raw=true\" alt=\"esquema\" />\n",
    "</div>\n"
   ]
  },
  {
   "cell_type": "markdown",
   "metadata": {},
   "source": [
    "# Laboratorio de Python: manejo de errores."
   ]
  },
  {
   "cell_type": "markdown",
   "metadata": {},
   "source": [
    "## Ejercicio 1: División con manejo de excepciones\n",
    "\n",
    "Escribe un programa que pida al usuario dos números e intente dividirlos. Si el usuario ingresa un valor no numérico o intenta dividir por cero, maneja esas excepciones de manera adecuada. Asegúrate de mostrar un mensaje indicando si la división fue exitosa o no.\n",
    "\n",
    "- se usa #try (linea de odigo que podria generar excepciones)\n"
   ]
  },
  {
   "cell_type": "code",
   "execution_count": null,
   "metadata": {},
   "outputs": [
    {
     "ename": "SyntaxError",
     "evalue": "invalid syntax (1305855029.py, line 8)",
     "output_type": "error",
     "traceback": [
      "\u001b[1;36m  Cell \u001b[1;32mIn[2], line 8\u001b[1;36m\u001b[0m\n\u001b[1;33m    numeroa = is not(float)\u001b[0m\n\u001b[1;37m              ^\u001b[0m\n\u001b[1;31mSyntaxError\u001b[0m\u001b[1;31m:\u001b[0m invalid syntax\n"
     ]
    }
   ],
   "source": [
    "##ejemplo corregido\n",
    "def haz_division(numeroa, numerob):\n",
    "    try:\n",
    "        input(\"introduzca numeroa\")\n",
    "        input(\"introduzca numerob\") ##un imput no puede tomar dos argumentos\n",
    "        resultado = numeroa/numerob\n",
    "        print(f\"el resultado de la division es {resultado}\")\n",
    "    \n",
    "    except:\n",
    "        numeroa = is not(float) ##mal sintaxis. si quiero comprar q numeroa no es un numero puedo intentar convertilo a float dentro del try\n",
    "\n",
    "        print(f\"el numero introducido no es un valor numerico\")\n",
    "\n",
    "        and ## and solo se usa con sentencia if\n",
    "\n",
    "        numerob is 0\n",
    "        print(f\"no se puede dividir entre 0\")\n",
    "    else:\n",
    "        print(\"la division fue exitosa\")\n"
   ]
  },
  {
   "cell_type": "markdown",
   "metadata": {},
   "source": [
    "### ejemplo chatgpt preguntar en clase las cosas"
   ]
  },
  {
   "cell_type": "code",
   "execution_count": 3,
   "metadata": {},
   "outputs": [
    {
     "name": "stdout",
     "output_type": "stream",
     "text": [
      "¡Error! Uno de los valores introducidos no es un número válido.\n",
      "Gracias por usar el programa.\n"
     ]
    }
   ],
   "source": [
    "\n",
    "def haz_division():\n",
    "    try:\n",
    "        # Pedimos los números al usuario\n",
    "        numeroa = float(input(\"Introduce el primer número (numeroa): \"))  # Convertimos la entrada a float\n",
    "        numerob = float(input(\"Introduce el segundo número (numerob): \"))  # Convertimos la entrada a float\n",
    "        \n",
    "        # Intentamos realizar la división\n",
    "        resultado = numeroa / numerob\n",
    "        print(f\"El resultado de la división es {resultado}\")\n",
    "    \n",
    "    except ValueError:\n",
    "        # Capturamos si el usuario no introduce un número válido\n",
    "        print(\"¡Error! Uno de los valores introducidos no es un número válido.\")\n",
    "    \n",
    "    except ZeroDivisionError:\n",
    "        # Capturamos si el usuario intenta dividir entre 0\n",
    "        print(\"¡Error! No se puede dividir entre cero.\")\n",
    "    \n",
    "    else:\n",
    "        # Si no hubo errores, ejecutamos este bloque\n",
    "        print(\"La división fue exitosa.\")\n",
    "    \n",
    "    finally:\n",
    "        # Este bloque siempre se ejecutará, haya o no errores\n",
    "        print(\"Gracias por usar el programa.\")\n",
    "\n",
    "# Llamamos a la función\n",
    "haz_division()\n"
   ]
  },
  {
   "cell_type": "markdown",
   "metadata": {},
   "source": [
    "## Ejercicio 2: Acceso a archivos\n",
    "\n",
    "Escribe un programa que intente abrir un archivo llamado \"datos.txt\". Si el archivo no existe, captura la excepción y muestra un mensaje de error. Asegúrate de cerrar el archivo correctamente en la sección `finally`.\n"
   ]
  },
  {
   "cell_type": "code",
   "execution_count": 5,
   "metadata": {},
   "outputs": [
    {
     "name": "stdout",
     "output_type": "stream",
     "text": [
      "error, no se pudo leer el archivo\n",
      "no se pudo cerrar el archivo por que no fue abierto\n"
     ]
    }
   ],
   "source": [
    "def acceso_a_archivo():\n",
    "    try:\n",
    "        archivo = open(\"datos.txt\", \"r\")\n",
    "        contenido = archivo.read()\n",
    "        print(\"contenido de arvhivo:\")\n",
    "        print(contenido)\n",
    "    except IOError:\n",
    "        print(\"error, no se pudo leer el archivo\")\n",
    "    finally:\n",
    "        try:\n",
    "            archivo.close()\n",
    "            print(\"el archivo se ha cerrado correctamente\")\n",
    "        except NameError:\n",
    "            print(\"no se pudo cerrar el archivo por que no fue abierto\")\n",
    "\n",
    "acceso_a_archivo()"
   ]
  },
  {
   "cell_type": "markdown",
   "metadata": {},
   "source": [
    "## Ejercicio 3: Conversión de cadenas a enteros\n",
    "\n",
    "Escribe un programa que pida una lista de números separados por comas y convierta cada valor a un número entero. Maneja las excepciones para valores que no sean convertibles y asegúrate de informar si la conversión fue exitosa o no.\n"
   ]
  },
  {
   "cell_type": "markdown",
   "metadata": {},
   "source": [
    "### ¿porque no se ponen argumentos dentro de la funcion conversion_a_cadena()?"
   ]
  },
  {
   "cell_type": "code",
   "execution_count": 11,
   "metadata": {},
   "outputs": [],
   "source": [
    "def conversion_de_cadena_a_enteros():\n",
    "    entrada = input(\"lista de números separados por comas: \")\n",
    "    lista = entrada.split(\",\") ##convertir la cadena a lista separada por comas\n",
    "    print(f\"la lista que has intriducido es:{lista}\")\n",
    "    for valor in lista:\n",
    "        try:\n",
    "            numero = int(valor.strip())\n",
    "            print(f\"el valor {valor} se ha convertido a {numero} exitosamente.\")\n",
    "        except ValueError:\n",
    "            print(f\"error: el {valor} no se ha podido convertir a numero entero.\")"
   ]
  },
  {
   "cell_type": "code",
   "execution_count": 12,
   "metadata": {},
   "outputs": [
    {
     "name": "stdout",
     "output_type": "stream",
     "text": [
      "la lista que has intriducido es:['21', ' 2', '5', ' 33', ' 21^2']\n",
      "el valor 21 se ha convertido a 21 exitosamente.\n",
      "el valor  2 se ha convertido a 2 exitosamente.\n",
      "el valor 5 se ha convertido a 5 exitosamente.\n",
      "el valor  33 se ha convertido a 33 exitosamente.\n",
      "error: el  21^2 no se ha podido convertir a numero entero.\n"
     ]
    }
   ],
   "source": [
    "conversion_de_cadena_a_enteros()"
   ]
  },
  {
   "cell_type": "markdown",
   "metadata": {},
   "source": [
    "#### Ejercicio 4: Cálculo del promedio con manejo de excepciones\n",
    "\n",
    "Escribe una función que reciba una lista de números y calcule su promedio. Si la lista está vacía, lanza una excepción personalizada y maneja el error adecuadamente.\n"
   ]
  },
  {
   "cell_type": "code",
   "execution_count": 40,
   "metadata": {},
   "outputs": [],
   "source": [
    "def calcular_promedio(numeros):\n",
    "    try:\n",
    "        suma = sum(numeros)\n",
    "        promedio = suma/len(numeros)\n",
    "        return promedio\n",
    "    except ZeroDivisionError:\n",
    "        print(\"Error, la lista está vacía\")\n",
    "\n",
    "    print(calcular_promedio)\n"
   ]
  },
  {
   "cell_type": "code",
   "execution_count": 41,
   "metadata": {},
   "outputs": [
    {
     "data": {
      "text/plain": [
       "30.0"
      ]
     },
     "execution_count": 41,
     "metadata": {},
     "output_type": "execute_result"
    }
   ],
   "source": [
    "numeros = [10, 20, 30, 40, 50]\n",
    "calcular_promedio(numeros)"
   ]
  },
  {
   "cell_type": "code",
   "execution_count": 43,
   "metadata": {},
   "outputs": [
    {
     "name": "stdout",
     "output_type": "stream",
     "text": [
      "Error, la lista está vacía\n",
      "<function calcular_promedio at 0x000001C89FF1AC00>\n"
     ]
    }
   ],
   "source": [
    "numeros = []\n",
    "calcular_promedio(numeros)"
   ]
  },
  {
   "cell_type": "markdown",
   "metadata": {},
   "source": [
    "#### Ejercicio 5: Conversión segura de números\n",
    "\n",
    "Escribe un programa que convierta una cadena a número flotante e intente realizar una operación aritmética. Si la conversión falla, maneja la excepción y continúa con el flujo normal."
   ]
  },
  {
   "cell_type": "code",
   "execution_count": 44,
   "metadata": {},
   "outputs": [],
   "source": [
    "def conversion(cadena):\n",
    "    try:\n",
    "        numero =float(cadena)\n",
    "        resultado = numero * 2\n",
    "        print(f\"el numero convertido es: {numero}\")\n",
    "        print(f\"el resultado de la operación es {resultado}\")\n",
    "    except ValueError:\n",
    "        print(\"error, la cadena ingresada no es un numero válido\")"
   ]
  },
  {
   "cell_type": "code",
   "execution_count": 45,
   "metadata": {},
   "outputs": [
    {
     "name": "stdout",
     "output_type": "stream",
     "text": [
      "el numero convertido es: 25.33\n",
      "el resultado de la operación es 50.66\n"
     ]
    }
   ],
   "source": [
    "cadena = \"25.33\"\n",
    "conversion(cadena)"
   ]
  },
  {
   "cell_type": "code",
   "execution_count": 46,
   "metadata": {},
   "outputs": [
    {
     "name": "stdout",
     "output_type": "stream",
     "text": [
      "error, la cadena ingresada no es un numero válido\n"
     ]
    }
   ],
   "source": [
    "cadena = \"hola\"\n",
    "conversion(cadena)"
   ]
  },
  {
   "cell_type": "markdown",
   "metadata": {},
   "source": [
    "#### Ejercicio 6: Acceso a claves en diccionarios\n",
    "\n",
    "Escribe un programa que intente acceder a una clave específica en un diccionario. Si la clave no existe, maneja la excepción `KeyError` y muestra un mensaje indicando el problema."
   ]
  },
  {
   "cell_type": "code",
   "execution_count": 47,
   "metadata": {},
   "outputs": [],
   "source": [
    "def acceso_clave(diccionario, clave):\n",
    "    try:\n",
    "        valor = diccionario[clave]\n",
    "        print(f\" el valor asociado a la clave '{clave}' es: {valor}\")\n",
    "    except KeyError:\n",
    "        print(\"la clave no existe en el diccionario\")\n"
   ]
  },
  {
   "cell_type": "code",
   "execution_count": 52,
   "metadata": {},
   "outputs": [
    {
     "name": "stdout",
     "output_type": "stream",
     "text": [
      " el valor asociado a la clave 'edad' es: 30\n",
      "la clave no existe en el diccionario\n"
     ]
    }
   ],
   "source": [
    "mi_diccionario = {\"nombre\": \"Juan\", \"edad\": 30, \"ciudad\": \"Madrid\"}\n",
    "acceso_clave(mi_diccionario, \"edad\")\n",
    "acceso_clave(mi_diccionario, \"apellido\")"
   ]
  },
  {
   "cell_type": "markdown",
   "metadata": {},
   "source": [
    "\n",
    "#### Ejercicio 7: Verificación de entradas de usuario\n",
    "\n",
    "Escribe un programa que pida al usuario que introduzca su edad. Si el usuario ingresa un valor no numérico o un valor fuera del rango esperado (por ejemplo, menor que 0 o mayor que 120), maneja las excepciones adecuadamente."
   ]
  },
  {
   "cell_type": "code",
   "execution_count": 63,
   "metadata": {},
   "outputs": [
    {
     "name": "stdout",
     "output_type": "stream",
     "text": [
      "Error: La entrada debe ser un número entero.\n"
     ]
    }
   ],
   "source": [
    "def verificacion_entrada():\n",
    "    try:\n",
    "        entrada = input(\"ingrese su edad\")\n",
    "        edad  = int(entrada)\n",
    "        if edad < 0 or edad > 120:\n",
    "            print(\"Error: La edad debe estar entre 0 y 120 años.\")\n",
    "        else:\n",
    "            print(f\"Edad: {edad} años.\")\n",
    "\n",
    "    except ValueError:\n",
    "        print(\"Error: La entrada debe ser un número entero.\")\n",
    "verificacion_entrada()\n"
   ]
  },
  {
   "cell_type": "markdown",
   "metadata": {},
   "source": [
    "#### Ejercicio 8: Extracción de valores de una lista\n",
    "\n",
    "Escribe una función que intente acceder a un índice específico en una lista. Si el índice está fuera del rango, maneja la excepción `IndexError` y muestra un mensaje adecuado.\n"
   ]
  },
  {
   "cell_type": "code",
   "execution_count": 79,
   "metadata": {},
   "outputs": [],
   "source": [
    "def extraccion_valores(lista, indice):\n",
    "    try:\n",
    "       valor = lista[indice]\n",
    "       print(f\"el valor en el indice '{indice}' es '{valor}'\")\n",
    "    except IndexError:\n",
    "        print(f\"el indice introducido no está en la lista\")"
   ]
  },
  {
   "cell_type": "code",
   "execution_count": 80,
   "metadata": {},
   "outputs": [
    {
     "name": "stdout",
     "output_type": "stream",
     "text": [
      "el valor en el indice '2' es '8'\n"
     ]
    }
   ],
   "source": [
    "lista = [2, 6, 8, 90]\n",
    "indice = 2\n",
    "extraccion_valores(lista, indice)"
   ]
  }
 ],
 "metadata": {
  "kernelspec": {
   "display_name": "Python 3",
   "language": "python",
   "name": "python3"
  },
  "language_info": {
   "codemirror_mode": {
    "name": "ipython",
    "version": 3
   },
   "file_extension": ".py",
   "mimetype": "text/x-python",
   "name": "python",
   "nbconvert_exporter": "python",
   "pygments_lexer": "ipython3",
   "version": "3.12.4"
  }
 },
 "nbformat": 4,
 "nbformat_minor": 2
}
